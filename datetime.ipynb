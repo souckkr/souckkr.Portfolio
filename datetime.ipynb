{
 "cells": [
  {
   "cell_type": "code",
   "execution_count": null,
   "metadata": {},
   "outputs": [],
   "source": [
    "\"\"\" 데이트타임(datetime) 형식의 현재시간을 불러옴 , 밀리 세컨즈까지 출력됨 \"\"\"\n",
    "import datetime\n",
    "now =datetime.datetime.now()\n",
    "\n",
    "\"\"\" 유닉스 시간(unixtime) 형식의 현재시간을 가져옴, 밀리 세컨즈까지 출력됨 \"\"\"\n",
    "\n",
    "def get_now():\n",
    "    import time\n",
    "    now = time.time()\n",
    "    return now\n",
    "\n",
    "\n",
    "이 두 가지 시간을 서로의 타입으로 바꿔줄 일이 간혹 일어납니다. \n",
    "즉 datetime을 unixtime으로 변경한다거나 반대로 unixtime을 datetime으로 변경해주는 일 같은 경우죠. \n",
    "아래 두 함수는 위의 두 일을 수행해줍니다.\n",
    "\"\"\" 데이터트타임(datetime)을 유닉스 시간(unixtime)으로 변경해주는 함수 \"\"\"\n",
    "\n",
    "def convert_datetime(unixtime):\n",
    "    \"\"\"Convert unixtime to datetime\"\"\"\n",
    "    import datetime\n",
    "    date = datetime.datetime.fromtimestamp(unixtime).strftime('%Y-%m-%d %H:%M:%S')\n",
    "    return date  # format : str\n",
    "\n",
    "datetime 모듈의 fromtimestamp는 timestamp 즉 unixtime을 받아 strftime 인자로 받는 형식의 데이트타임으로 \n",
    "변경해주는 함수입니다. \n",
    "\n",
    "\"\"\" 유닉스 시간을 데이트타임으로 변경해주는 함수 \"\"\"\n",
    "\n",
    "def convert_unixtime(date_time):\n",
    "    \"\"\"Convert datetime to unixtime\"\"\"\n",
    "    import datetime\n",
    "    unixtime = datetime.datetime.strptime(date_time,'%Y-%m-%d %H:%M:%S').timestamp()\n",
    "    return unixtime\n",
    "\n",
    "strptime 안에 '%Y-%m-%d %H:%M:%S'    이 부분은 이 형식으로 받은 date_time을 의미합니다. \n",
    "즉'2019-01-01 15:30:00' 같은 형식의 데이트타임을 받아서 유닉스 시간으로 변경해줍니다.\n",
    "\n",
    "\n",
    "만약 데이트타임을 밀리 세컨즈까지 포함된 형식으로 받았다면 유닉스 시간 역시 밀리 세컨즈까지 표현할 수 있습니다. 아래 함수와 같이 말이죠.\n",
    "\n",
    "def convert_unixtime(date_time):\n",
    "    \"\"\"Convert datetime to unixtime\"\"\"\n",
    "    import datetime\n",
    "    unixtime = datetime.datetime.strptime(date_time,\n",
    "                               '%Y-%m-%d %H:%M:%S,%f').timestamp()\n",
    "    unixtime_mili = unixtime * 1000\n",
    "    return unixtime_mili\n",
    "\n",
    " 데이트타임을 받아서 해당 데이트타임의 시간을 늘려주는 함수를 구현해보겠습니다. \n",
    "아래의 함수는 데이트타임을 1분 증가시키고 반환해주는 함수입니다.\n",
    "\n",
    "def add_datetime(date_time):\n",
    "    \"\"\"\n",
    "    :return: add 1 minute datetime\n",
    "    \"\"\"\n",
    "    import datetime\n",
    "    date_time = datetime.datetime.strptime(date_time, \"%Y-%m-%d %H:%M:%S\")\n",
    "    date_time += datetime.timedelta(minutes=1)\n",
    "    return date_time\n",
    "date_time의 형식은 '2019-01-01 15:30:00' 입니다. datetime의 timedelta를 이용하여 1분을 증가시켜주었습니다. += 연산을 -= 으로 바꿔주시면 1분이 감소된 데이트타임을 반환해줍니다. timedelta의 파라미터로는 minutes, hour, days, week, month 등이 있습니다. 여러분들이 증감해주고 싶은 파라미터로 위 함수를 수정해서 사용하시면 됩니다.\n",
    "1주: timedelta(weeks=1)\n",
    "1일: timedelta(days=1)\n",
    "1시간: timedelta(hours=1)\n",
    "1시간 30분: timedelta(hours=1, minutes=30)\n",
    "1분: timedelta(minutes=1)\n",
    "1초: timedelta(seconds=1)\n",
    "1밀리초: timedelta(milliseconds=1)\n",
    "1마이크로초: timedelta(microseconds=1)"
   ]
  },
  {
   "cell_type": "code",
   "execution_count": null,
   "metadata": {},
   "outputs": [],
   "source": [
    "# object 타입을 datetime64[ns] 타입으로 바꾼다 \n",
    "df['Birth'] = pd.to_datetime(df['Birth'], format='%Y-%m-%d %H:%M:%S', errors='raise')"
   ]
  },
  {
   "cell_type": "markdown",
   "metadata": {},
   "source": [
    "to_datetime( ) 함수에 첫번째 파라미터로 list를 입력하면 datetimeIndex가 반환됩니다.\n",
    "\n",
    "Pandas의 Series타입을 입력하면 datetime64형태의 Series타입이 반환됩니다.\n",
    "\n",
    "(Series타입이 다루기가 더 쉽습니다)\n",
    "\n",
    "그리고 format파라미터에서 지정한 대표적인 시간 포멧은 아래와 같습니다.\n",
    "\n",
    "%Y: Year, ex) 2019, 2020\n",
    "%m: Month as a zero-padded, ex) 01~12\n",
    "%d: Day of the month as a zero-padded ex) 01~31\n",
    "%H: Hour (24-hour clock) as a zero-padded ex) 01~23\n",
    "%M: Minute as a zero-padded ex) 00~59\n",
    "%S: Second as a zero-padded ex) 00~59\n",
    "ex) 2019-09-01 19:30:00 =(Directivs)=> %Y-%m-%d %H:%M:%S"
   ]
  },
  {
   "cell_type": "code",
   "execution_count": null,
   "metadata": {},
   "outputs": [],
   "source": [
    "df['Birth_date']       = df['Birth'].dt.date         # YYYY-MM-DD(문자)\n",
    "df['Birth_year']       = df['Birth'].dt.year         # 연(4자리숫자)\n",
    "df['Birth_month']      = df['Birth'].dt.month        # 월(숫자)\n",
    "df['Birth_month_name'] = df['Birth'].dt.month_name() # 월(문자)\n",
    "\n",
    "df['Birth_day']        = df['Birth'].dt.day          # 일(숫자)\n",
    "df['Birth_time']       = df['Birth'].dt.time         # HH:MM:SS(문자)\n",
    "df['Birth_hour']       = df['Birth'].dt.hour         # 시(숫자)\n",
    "df['Birth_minute']     = df['Birth'].dt.minute       # 분(숫자)\n",
    "df['Birth_second']     = df['Birth'].dt.second       # 초(숫자)"
   ]
  },
  {
   "cell_type": "code",
   "execution_count": null,
   "metadata": {},
   "outputs": [],
   "source": [
    "df['Birth_quarter']       = df['Birth'].dt.quarter       # 분기(숫자)\n",
    "df['Birth_weekday_name']  = df['Birth'].dt.weekday_name  # 요일이름(문자) (=day_name())\n",
    "df['Birth_weekday']       = df['Birth'].dt.weekday       # 요일숫자(0-월, 1-화) (=dayofweek)\n",
    "df['Birth_weekofyear']    = df['Birth'].dt.weekofyear    # 연 기준 몇주째(숫자) (=week)\n",
    "df['Birth_dayofyear']     = df['Birth'].dt.dayofyear     # 연 기준 몇일째(숫자)\n",
    "df['Birth_days_in_month'] = df['Birth'].dt.days_in_month # 월 일수(숫자) (=daysinmonth)\n"
   ]
  },
  {
   "cell_type": "code",
   "execution_count": null,
   "metadata": {},
   "outputs": [],
   "source": [
    "df['Birth_is_leap_year']     = df['Birth'].dt.is_leap_year     # 윤년 여부\n",
    "df['Birth_is_month_start']   = df['Birth'].dt.is_month_start   # 월 시작일 여부\n",
    "df['Birth_is_month_end']     = df['Birth'].dt.is_month_end     # 월 마지막일 여부\n",
    "df['Birth_is_quarter_start'] = df['Birth'].dt.is_quarter_start # 분기 시작일 여부\n",
    "df['Birth_is_quarter_end']   = df['Birth'].dt.is_quarter_end   # 분기 마지막일 여부\n",
    "df['Birth_is_year_start']    = df['Birth'].dt.is_year_start    # 연 시작일 여부\n",
    "df['Birth_is_year_end']      = df['Birth'].dt.is_year_end      # 연 마지막일 여부"
   ]
  },
  {
   "cell_type": "code",
   "execution_count": null,
   "metadata": {},
   "outputs": [],
   "source": [
    "[ resample() 메소드의 시간 단위 구간 설정 ]\n",
    "\n",
    "- 5분 단위 구간    : resample('5T')\n",
    "- 10분 단위 구간  : resample('10T')\n",
    "- 20분 단위 구간 : resample('20T')\n",
    "- 1시간 단위 구간 : resample('1H')\n",
    "- 1일 단위 구간    : resample('1D')\n",
    "- 1주일 단위 구각 : resample('1W')\n",
    "- 1달 단위 구간    : resample('1M')\n",
    "- 1년 단위 구간    : resample('1Y')\n",
    "\n",
    "df_summary = pd.DataFrame()\n",
    "df_summary['price_10m_first'] = df.price.resample('10T').first()\n",
    "df_summary['price_10m_last'] = df.price.resample('10T').last()\n",
    "df_summary['amount_10m_first'] = df.amount.resample('10T').first()\n",
    "df_summary['amount_10m_last'] = df.amount.resample('10T').last()\n"
   ]
  },
  {
   "cell_type": "code",
   "execution_count": null,
   "metadata": {},
   "outputs": [],
   "source": [
    "df_summary['price_10m_sum'] = df.price.resample('10T').sum()\n",
    "df_summary['price_10m_cumsum'] = df.price.resample('10T').sum().cumsum()\n",
    "df_summary['amount_10m_sum'] = df.amount.resample('10T').sum()\n",
    "df_summary['amount_10m_cumsum'] = df.amount.resample('10T').sum().cumsum()\n"
   ]
  }
 ],
 "metadata": {
  "kernelspec": {
   "display_name": "Python 3",
   "language": "python",
   "name": "python3"
  },
  "language_info": {
   "codemirror_mode": {
    "name": "ipython",
    "version": 3
   },
   "file_extension": ".py",
   "mimetype": "text/x-python",
   "name": "python",
   "nbconvert_exporter": "python",
   "pygments_lexer": "ipython3",
   "version": "3.7.6"
  },
  "toc": {
   "base_numbering": 1,
   "nav_menu": {},
   "number_sections": true,
   "sideBar": true,
   "skip_h1_title": false,
   "title_cell": "Table of Contents",
   "title_sidebar": "Contents",
   "toc_cell": false,
   "toc_position": {},
   "toc_section_display": true,
   "toc_window_display": false
  },
  "varInspector": {
   "cols": {
    "lenName": 16,
    "lenType": 16,
    "lenVar": 40
   },
   "kernels_config": {
    "python": {
     "delete_cmd_postfix": "",
     "delete_cmd_prefix": "del ",
     "library": "var_list.py",
     "varRefreshCmd": "print(var_dic_list())"
    },
    "r": {
     "delete_cmd_postfix": ") ",
     "delete_cmd_prefix": "rm(",
     "library": "var_list.r",
     "varRefreshCmd": "cat(var_dic_list()) "
    }
   },
   "types_to_exclude": [
    "module",
    "function",
    "builtin_function_or_method",
    "instance",
    "_Feature"
   ],
   "window_display": false
  }
 },
 "nbformat": 4,
 "nbformat_minor": 4
}
