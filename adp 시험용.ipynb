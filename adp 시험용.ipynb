{
 "cells": [
  {
   "cell_type": "code",
   "execution_count": 2,
   "metadata": {
    "ExecuteTime": {
     "end_time": "2020-09-17T06:13:36.973602Z",
     "start_time": "2020-09-17T06:13:35.525979Z"
    }
   },
   "outputs": [],
   "source": [
    "import seaborn as sns\n",
    "import matplotlib.pyplot as plt"
   ]
  },
  {
   "cell_type": "markdown",
   "metadata": {},
   "source": [
    "# 데이터셋 읽기"
   ]
  },
  {
   "cell_type": "code",
   "execution_count": 16,
   "metadata": {
    "ExecuteTime": {
     "end_time": "2020-09-17T06:16:17.137129Z",
     "start_time": "2020-09-17T06:16:16.952567Z"
    }
   },
   "outputs": [],
   "source": [
    "# 데이터파일 읽기\n",
    "data = pd.read_csv('data/cs_data.csv',index_col=0)"
   ]
  },
  {
   "cell_type": "markdown",
   "metadata": {},
   "source": [
    "- 제공되는 데이터셋의 컬럼명이 이해하기 어렵거나 사용하기 어렵다면 변경하도록 한다.\n",
    "    - 컬럼명을 소문자로 변경함."
   ]
  },
  {
   "cell_type": "code",
   "execution_count": null,
   "metadata": {},
   "outputs": [],
   "source": [
    "data.columns = [col.lower() for col in data.columns]"
   ]
  },
  {
   "cell_type": "markdown",
   "metadata": {},
   "source": [
    "# EDA"
   ]
  },
  {
   "cell_type": "code",
   "execution_count": 19,
   "metadata": {
    "ExecuteTime": {
     "end_time": "2020-09-17T06:23:10.008860Z",
     "start_time": "2020-09-17T06:23:10.004871Z"
    }
   },
   "outputs": [],
   "source": [
    "# data.describe().T"
   ]
  },
  {
   "cell_type": "code",
   "execution_count": 13,
   "metadata": {
    "ExecuteTime": {
     "end_time": "2020-09-08T07:49:10.476996Z",
     "start_time": "2020-09-08T07:49:10.451068Z"
    }
   },
   "outputs": [
    {
     "data": {
      "text/plain": [
       "0    139974\n",
       "1     10026\n",
       "Name: seriousdlqin2yrs, dtype: int64"
      ]
     },
     "execution_count": 13,
     "metadata": {},
     "output_type": "execute_result"
    }
   ],
   "source": [
    "# 타겟(seriousdlqin2yrs) 분포 확인\n",
    "data['seriousdlqin2yrs'].value_counts()"
   ]
  },
  {
   "cell_type": "code",
   "execution_count": 14,
   "metadata": {
    "ExecuteTime": {
     "end_time": "2020-09-08T07:49:10.553871Z",
     "start_time": "2020-09-08T07:49:10.479991Z"
    }
   },
   "outputs": [
    {
     "data": {
      "text/plain": [
       "0    0.93316\n",
       "1    0.06684\n",
       "Name: seriousdlqin2yrs, dtype: float64"
      ]
     },
     "execution_count": 14,
     "metadata": {},
     "output_type": "execute_result"
    }
   ],
   "source": [
    "# 비율로 보기\n",
    "data['seriousdlqin2yrs'].value_counts()/len(data['seriousdlqin2yrs'])"
   ]
  },
  {
   "cell_type": "code",
   "execution_count": 21,
   "metadata": {
    "ExecuteTime": {
     "end_time": "2020-09-17T06:25:15.961761Z",
     "start_time": "2020-09-17T06:25:15.957805Z"
    },
    "scrolled": false
   },
   "outputs": [],
   "source": [
    "# sns.countplot(data['seriousdlqin2yrs'])\n",
    "# plt.show()"
   ]
  },
  {
   "cell_type": "markdown",
   "metadata": {},
   "source": [
    "# 결측치 처리"
   ]
  },
  {
   "cell_type": "code",
   "execution_count": 18,
   "metadata": {
    "ExecuteTime": {
     "end_time": "2020-09-17T06:17:04.616862Z",
     "start_time": "2020-09-17T06:17:04.612877Z"
    },
    "scrolled": true
   },
   "outputs": [],
   "source": [
    "# data.isna().sum()"
   ]
  },
  {
   "cell_type": "code",
   "execution_count": 22,
   "metadata": {
    "ExecuteTime": {
     "end_time": "2020-09-17T06:25:20.353260Z",
     "start_time": "2020-09-17T06:25:20.349272Z"
    }
   },
   "outputs": [],
   "source": [
    "# x_tick = data.columns\n",
    "# y = data.isna().mean()\n",
    "# sns.barplot(x_tick, y)\n",
    "# plt.xticks(rotation=90)\n",
    "# plt.show()"
   ]
  },
  {
   "cell_type": "code",
   "execution_count": 14,
   "metadata": {
    "ExecuteTime": {
     "end_time": "2020-09-17T06:14:41.665190Z",
     "start_time": "2020-09-17T06:14:41.661203Z"
    },
    "scrolled": true
   },
   "outputs": [],
   "source": [
    "# 중앙값 확인 data.median()"
   ]
  },
  {
   "cell_type": "code",
   "execution_count": 15,
   "metadata": {
    "ExecuteTime": {
     "end_time": "2020-09-17T06:14:43.889243Z",
     "start_time": "2020-09-17T06:14:43.885255Z"
    },
    "scrolled": false
   },
   "outputs": [],
   "source": [
    "# 평균값 확인 data.mean()"
   ]
  },
  {
   "cell_type": "code",
   "execution_count": 20,
   "metadata": {
    "ExecuteTime": {
     "end_time": "2020-09-08T07:49:11.610624Z",
     "start_time": "2020-09-08T07:49:11.526720Z"
    },
    "scrolled": true
   },
   "outputs": [],
   "source": [
    "# 결측치 중위수로 처리\n",
    "data = data.fillna((data.median()))"
   ]
  },
  {
   "cell_type": "markdown",
   "metadata": {},
   "source": [
    "## 이상치 확인 및 처리\n",
    "\n",
    "### IQR 기반 이상치 검출\n",
    "- IQR : 3분위수-1분위수\n",
    "- 이상치 기준 (rate는 일반적으로 1.5사용)\n",
    "    - 1분위수 + IQR*rate 보다 작은수\n",
    "    - 3분위 + IQR*rate 보다 큰수"
   ]
  },
  {
   "cell_type": "code",
   "execution_count": 21,
   "metadata": {
    "ExecuteTime": {
     "end_time": "2020-09-08T07:49:11.625586Z",
     "start_time": "2020-09-08T07:49:11.616609Z"
    }
   },
   "outputs": [],
   "source": [
    "def get_outlier(data, rate=1.5):\n",
    "    q1 = np.quantile(data, q=0.25)\n",
    "    q3 = np.quantile(data, q=0.75)\n",
    "    IQR = q3 - q1\n",
    "    return (data < q1 - IQR * rate) | (data > q3+IQR * rate)"
   ]
  },
  {
   "cell_type": "code",
   "execution_count": 22,
   "metadata": {
    "ExecuteTime": {
     "end_time": "2020-09-08T07:49:25.433758Z",
     "start_time": "2020-09-08T07:49:25.403756Z"
    }
   },
   "outputs": [
    {
     "name": "stdout",
     "output_type": "stream",
     "text": [
      "count    150000.000000\n",
      "mean          6.048438\n",
      "std         249.755371\n",
      "min           0.000000\n",
      "25%           0.029867\n",
      "50%           0.154181\n",
      "75%           0.559046\n",
      "max       50708.000000\n",
      "Name: revolvingutilizationofunsecuredlines, dtype: float64\n",
      "1이상값 총개수 3321\n"
     ]
    }
   ],
   "source": [
    "#확인\n",
    "print(data['revolvingutilizationofunsecuredlines'].describe())\n",
    "print('1이상값 총개수',(data['revolvingutilizationofunsecuredlines'] > 1).sum())"
   ]
  },
  {
   "cell_type": "code",
   "execution_count": 27,
   "metadata": {
    "ExecuteTime": {
     "end_time": "2020-09-08T07:50:26.774115Z",
     "start_time": "2020-09-08T07:50:26.764139Z"
    }
   },
   "outputs": [],
   "source": [
    "data.loc[data['revolvingutilizationofunsecuredlines']>1, 'revolvingutilizationofunsecuredlines'] = 1"
   ]
  },
  {
   "cell_type": "code",
   "execution_count": 28,
   "metadata": {
    "ExecuteTime": {
     "end_time": "2020-09-08T07:50:29.064170Z",
     "start_time": "2020-09-08T07:50:29.035270Z"
    }
   },
   "outputs": [
    {
     "name": "stdout",
     "output_type": "stream",
     "text": [
      "count    150000.000000\n",
      "mean          0.319196\n",
      "std           0.349481\n",
      "min           0.000000\n",
      "25%           0.029867\n",
      "50%           0.154181\n",
      "75%           0.559046\n",
      "max           1.000000\n",
      "Name: revolvingutilizationofunsecuredlines, dtype: float64\n",
      "1이상값 총개수 0\n"
     ]
    }
   ],
   "source": [
    "#확인\n",
    "print(data['revolvingutilizationofunsecuredlines'].describe())\n",
    "print('1이상값 총개수',(data['revolvingutilizationofunsecuredlines'] > 1).sum())"
   ]
  },
  {
   "cell_type": "markdown",
   "metadata": {},
   "source": [
    "### age\n",
    "- 대출자 나이\n",
    "- 최소값이 0, 최대값 109\n",
    "- 중위수로 변환 "
   ]
  },
  {
   "cell_type": "code",
   "execution_count": 24,
   "metadata": {
    "ExecuteTime": {
     "end_time": "2020-09-07T20:56:18.659561Z",
     "start_time": "2020-09-07T20:56:18.629641Z"
    }
   },
   "outputs": [
    {
     "data": {
      "text/html": [
       "<div>\n",
       "<style scoped>\n",
       "    .dataframe tbody tr th:only-of-type {\n",
       "        vertical-align: middle;\n",
       "    }\n",
       "\n",
       "    .dataframe tbody tr th {\n",
       "        vertical-align: top;\n",
       "    }\n",
       "\n",
       "    .dataframe thead th {\n",
       "        text-align: right;\n",
       "    }\n",
       "</style>\n",
       "<table border=\"1\" class=\"dataframe\">\n",
       "  <thead>\n",
       "    <tr style=\"text-align: right;\">\n",
       "      <th></th>\n",
       "      <th>seriousdlqin2yrs</th>\n",
       "      <th>revolvingutilizationofunsecuredlines</th>\n",
       "      <th>age</th>\n",
       "      <th>numberoftime30-59dayspastduenotworse</th>\n",
       "      <th>debtratio</th>\n",
       "      <th>monthlyincome</th>\n",
       "      <th>numberofopencreditlinesandloans</th>\n",
       "      <th>numberoftimes90dayslate</th>\n",
       "      <th>numberrealestateloansorlines</th>\n",
       "      <th>numberoftime60-89dayspastduenotworse</th>\n",
       "      <th>numberofdependents</th>\n",
       "    </tr>\n",
       "  </thead>\n",
       "  <tbody>\n",
       "    <tr>\n",
       "      <th>65695</th>\n",
       "      <td>0</td>\n",
       "      <td>1.0</td>\n",
       "      <td>0</td>\n",
       "      <td>1</td>\n",
       "      <td>0.436927</td>\n",
       "      <td>6000.0</td>\n",
       "      <td>6</td>\n",
       "      <td>0</td>\n",
       "      <td>2</td>\n",
       "      <td>0</td>\n",
       "      <td>2.0</td>\n",
       "    </tr>\n",
       "  </tbody>\n",
       "</table>\n",
       "</div>"
      ],
      "text/plain": [
       "       seriousdlqin2yrs  revolvingutilizationofunsecuredlines  age  \\\n",
       "65695                 0                                   1.0    0   \n",
       "\n",
       "       numberoftime30-59dayspastduenotworse  debtratio  monthlyincome  \\\n",
       "65695                                     1   0.436927         6000.0   \n",
       "\n",
       "       numberofopencreditlinesandloans  numberoftimes90dayslate  \\\n",
       "65695                                6                        0   \n",
       "\n",
       "       numberrealestateloansorlines  numberoftime60-89dayspastduenotworse  \\\n",
       "65695                             2                                     0   \n",
       "\n",
       "       numberofdependents  \n",
       "65695                 2.0  "
      ]
     },
     "execution_count": 24,
     "metadata": {},
     "output_type": "execute_result"
    }
   ],
   "source": [
    "data.loc[data['age']==0]"
   ]
  },
  {
   "cell_type": "code",
   "execution_count": 25,
   "metadata": {
    "ExecuteTime": {
     "end_time": "2020-09-07T20:56:18.690510Z",
     "start_time": "2020-09-07T20:56:18.662554Z"
    }
   },
   "outputs": [],
   "source": [
    "data.loc[data['age']==0, 'age'] = data['age'].median()"
   ]
  },
  {
   "cell_type": "markdown",
   "metadata": {},
   "source": [
    "## monthlyincome\n",
    "- 월간 소득\n",
    "- 이상치를 이상치 아닌 값들의 최대 값으로 대체한다."
   ]
  },
  {
   "cell_type": "code",
   "execution_count": 34,
   "metadata": {
    "ExecuteTime": {
     "end_time": "2020-09-07T20:56:18.923888Z",
     "start_time": "2020-09-07T20:56:18.909894Z"
    }
   },
   "outputs": [
    {
     "data": {
      "text/plain": [
       "12626.0"
      ]
     },
     "execution_count": 34,
     "metadata": {},
     "output_type": "execute_result"
    }
   ],
   "source": [
    "max_value_income = np.max(data.monthlyincome[~get_outlier(data['monthlyincome'])])\n",
    "max_value_income"
   ]
  },
  {
   "cell_type": "code",
   "execution_count": 35,
   "metadata": {
    "ExecuteTime": {
     "end_time": "2020-09-07T20:56:18.938813Z",
     "start_time": "2020-09-07T20:56:18.925849Z"
    }
   },
   "outputs": [],
   "source": [
    "# 정상값의 최대값으로 변환\n",
    "data.loc[data['monthlyincome']>=max_value_income, 'monthlyincome'] = max_value_income"
   ]
  },
  {
   "cell_type": "code",
   "execution_count": 36,
   "metadata": {
    "ExecuteTime": {
     "end_time": "2020-09-07T20:56:18.954771Z",
     "start_time": "2020-09-07T20:56:18.939813Z"
    }
   },
   "outputs": [
    {
     "data": {
      "text/plain": [
       "count    149731.000000\n",
       "mean       5879.829501\n",
       "std        3042.486899\n",
       "min           0.000000\n",
       "25%        3915.000000\n",
       "50%        5400.000000\n",
       "75%        7400.000000\n",
       "max       12626.000000\n",
       "Name: monthlyincome, dtype: float64"
      ]
     },
     "execution_count": 36,
     "metadata": {},
     "output_type": "execute_result"
    }
   ],
   "source": [
    "data['monthlyincome'].describe()"
   ]
  },
  {
   "cell_type": "markdown",
   "metadata": {},
   "source": [
    "# 종속변수별 상관관계 확인\n"
   ]
  },
  {
   "cell_type": "code",
   "execution_count": 20,
   "metadata": {
    "ExecuteTime": {
     "end_time": "2020-09-17T06:23:38.792564Z",
     "start_time": "2020-09-17T06:23:38.788574Z"
    }
   },
   "outputs": [],
   "source": [
    "# plt.figure(figsize=(4,4)) #히트맵\n",
    "# ax = sns.heatmap(data.corr(), annot=True, fmt='.2f', linewidths=0.5, cmap='YlGnBu')\n",
    "# # print(ax.get_ylim())\n",
    "# ax.set_ylim(11,0)\n",
    "# plt.show()"
   ]
  },
  {
   "cell_type": "code",
   "execution_count": 17,
   "metadata": {
    "ExecuteTime": {
     "end_time": "2020-09-17T06:16:38.192629Z",
     "start_time": "2020-09-17T06:16:38.188641Z"
    },
    "scrolled": true
   },
   "outputs": [],
   "source": [
    "# data.corr()"
   ]
  },
  {
   "cell_type": "code",
   "execution_count": 49,
   "metadata": {
    "ExecuteTime": {
     "end_time": "2020-09-07T20:56:21.392252Z",
     "start_time": "2020-09-07T20:56:20.163538Z"
    }
   },
   "outputs": [],
   "source": [
    "data.to_csv('data/data-v01.csv', index=False)"
   ]
  },
  {
   "cell_type": "markdown",
   "metadata": {},
   "source": [
    "# 모델링"
   ]
  },
  {
   "cell_type": "code",
   "execution_count": 5,
   "metadata": {
    "ExecuteTime": {
     "end_time": "2020-09-07T20:02:41.302560Z",
     "start_time": "2020-09-07T20:02:40.951499Z"
    }
   },
   "outputs": [],
   "source": [
    "from sklearn.linear_model import LogisticRegression\n",
    "from sklearn.ensemble import GradientBoostingClassifier, RandomForestClassifier\n",
    "from sklearn.neighbors import KNeighborsClassifier\n",
    "from xgboost import XGBClassifier\n",
    "\n",
    "from sklearn.model_selection import train_test_split\n",
    "from sklearn.metrics import roc_auc_score, accuracy_score"
   ]
  },
  {
   "cell_type": "code",
   "execution_count": 6,
   "metadata": {
    "ExecuteTime": {
     "end_time": "2020-09-07T20:03:05.234836Z",
     "start_time": "2020-09-07T20:03:05.208873Z"
    }
   },
   "outputs": [],
   "source": [
    "y = data.seriousdlqin2yrs\n",
    "X = data.drop('seriousdlqin2yrs', axis='columns')"
   ]
  },
  {
   "cell_type": "code",
   "execution_count": 7,
   "metadata": {
    "ExecuteTime": {
     "end_time": "2020-09-07T20:03:09.836182Z",
     "start_time": "2020-09-07T20:03:09.747389Z"
    }
   },
   "outputs": [],
   "source": [
    "X_train, X_test, y_train, y_test = train_test_split(X, y, stratify=y)"
   ]
  },
  {
   "cell_type": "code",
   "execution_count": 8,
   "metadata": {
    "ExecuteTime": {
     "end_time": "2020-09-07T20:03:38.236582Z",
     "start_time": "2020-09-07T20:03:38.164776Z"
    }
   },
   "outputs": [],
   "source": [
    "X_train, X_val, y_train, y_val = train_test_split(X_train, y_train, stratify=y_train)"
   ]
  },
  {
   "cell_type": "code",
   "execution_count": 9,
   "metadata": {
    "ExecuteTime": {
     "end_time": "2020-09-07T20:03:55.336036Z",
     "start_time": "2020-09-07T20:03:55.317089Z"
    }
   },
   "outputs": [
    {
     "data": {
      "text/plain": [
       "((84223,), (28075,), (37433,))"
      ]
     },
     "execution_count": 9,
     "metadata": {},
     "output_type": "execute_result"
    }
   ],
   "source": [
    "y_train.shape, y_val.shape, y_test.shape"
   ]
  },
  {
   "cell_type": "markdown",
   "metadata": {},
   "source": [
    "## Scaling"
   ]
  },
  {
   "cell_type": "code",
   "execution_count": 16,
   "metadata": {
    "ExecuteTime": {
     "end_time": "2020-09-07T20:05:28.092414Z",
     "start_time": "2020-09-07T20:05:28.046538Z"
    }
   },
   "outputs": [],
   "source": [
    "from sklearn.preprocessing import StandardScaler, MinMaxScaler\n",
    "scaler = StandardScaler()\n",
    "X_train_scaled = scaler.fit_transform(X_train)\n",
    "X_val_scaled = scaler.transform(X_val)\n",
    "X_test_scaled = scaler.transform(X_test)"
   ]
  },
  {
   "cell_type": "markdown",
   "metadata": {},
   "source": [
    "## Base-line 모델 정의"
   ]
  },
  {
   "cell_type": "code",
   "execution_count": 11,
   "metadata": {
    "ExecuteTime": {
     "end_time": "2020-09-07T20:04:23.101429Z",
     "start_time": "2020-09-07T20:04:23.085472Z"
    }
   },
   "outputs": [],
   "source": [
    "knn = KNeighborsClassifier()"
   ]
  },
  {
   "cell_type": "code",
   "execution_count": 12,
   "metadata": {
    "ExecuteTime": {
     "end_time": "2020-09-07T20:04:23.677110Z",
     "start_time": "2020-09-07T20:04:23.669133Z"
    }
   },
   "outputs": [],
   "source": [
    "grb = GradientBoostingClassifier()"
   ]
  },
  {
   "cell_type": "code",
   "execution_count": 13,
   "metadata": {
    "ExecuteTime": {
     "end_time": "2020-09-07T20:04:24.288476Z",
     "start_time": "2020-09-07T20:04:24.283489Z"
    }
   },
   "outputs": [],
   "source": [
    "rf = RandomForestClassifier()"
   ]
  },
  {
   "cell_type": "code",
   "execution_count": 14,
   "metadata": {
    "ExecuteTime": {
     "end_time": "2020-09-07T20:04:24.924820Z",
     "start_time": "2020-09-07T20:04:24.920784Z"
    }
   },
   "outputs": [],
   "source": [
    "xgb = XGBClassifier()"
   ]
  },
  {
   "cell_type": "code",
   "execution_count": 24,
   "metadata": {
    "ExecuteTime": {
     "end_time": "2020-09-07T20:16:53.991135Z",
     "start_time": "2020-09-07T20:16:22.022084Z"
    }
   },
   "outputs": [
    {
     "data": {
      "text/plain": [
       "KNeighborsClassifier(algorithm='auto', leaf_size=30, metric='minkowski',\n",
       "                     metric_params=None, n_jobs=None, n_neighbors=5, p=2,\n",
       "                     weights='uniform')"
      ]
     },
     "execution_count": 24,
     "metadata": {},
     "output_type": "execute_result"
    }
   ],
   "source": [
    "xgb.fit(X_train_scaled, y_train)\n",
    "grb.fit(X_train_scaled, y_train)\n",
    "rf.fit(X_train_scaled, y_train)\n",
    "knn.fit(X_train_scaled, y_train)"
   ]
  },
  {
   "cell_type": "code",
   "execution_count": 25,
   "metadata": {
    "ExecuteTime": {
     "end_time": "2020-09-07T20:20:48.396479Z",
     "start_time": "2020-09-07T20:20:48.389529Z"
    }
   },
   "outputs": [],
   "source": [
    "base_line = [xgb, grb, rf, knn]\n",
    "model_names = ['XGBoost', 'GradientBoosting', 'RandomForest', 'KNN']"
   ]
  },
  {
   "cell_type": "code",
   "execution_count": 26,
   "metadata": {
    "ExecuteTime": {
     "end_time": "2020-09-07T20:22:05.693405Z",
     "start_time": "2020-09-07T20:20:49.074664Z"
    }
   },
   "outputs": [
    {
     "name": "stdout",
     "output_type": "stream",
     "text": [
      "XGBoost\n",
      "train정확도:0.939, validation정확도:0.937\t train AUC:0.867, validation AUC:0.868\n",
      "==================================================\n",
      "GradientBoosting\n",
      "train정확도:0.94, validation정확도:0.938\t train AUC:0.866, validation AUC:0.868\n",
      "==================================================\n",
      "RandomForest\n",
      "train정확도:0.999, validation정확도:0.935\t train AUC:1.0, validation AUC:0.842\n",
      "==================================================\n",
      "KNN\n",
      "train정확도:0.945, validation정확도:0.932\t train AUC:0.952, validation AUC:0.74\n",
      "==================================================\n"
     ]
    }
   ],
   "source": [
    "for i in range(len(base_line)):\n",
    "    \n",
    "    pred_train = base_line[i].predict(X_train_scaled)\n",
    "    pred_val = base_line[i].predict(X_val_scaled)\n",
    "    \n",
    "    pred_train_proba = base_line[i].predict_proba(X_train_scaled)\n",
    "    pred_val_proba = base_line[i].predict_proba(X_val_scaled)\n",
    "    \n",
    "    acc_train = np.round(accuracy_score(y_train,pred_train),3)\n",
    "    acc_val = np.round(accuracy_score(y_val, pred_val), 3)\n",
    "    \n",
    "    auc_train = np.round(roc_auc_score(y_train, pred_train_proba[:, 1]), 3)\n",
    "    auc_val = np.round(roc_auc_score(y_val, pred_val_proba[:, 1]), 3)\n",
    "    \n",
    "    print(f'{model_names[i]}')\n",
    "    print(f'train정확도:{acc_train}, validation정확도:{acc_val}\\t train AUC:{auc_train}, validation AUC:{auc_val}')\n",
    "    print('='*50)"
   ]
  },
  {
   "cell_type": "markdown",
   "metadata": {},
   "source": [
    "# GridSearchCV를 이용해 best 모델 생성"
   ]
  },
  {
   "cell_type": "code",
   "execution_count": 30,
   "metadata": {
    "ExecuteTime": {
     "end_time": "2020-09-07T20:32:01.425194Z",
     "start_time": "2020-09-07T20:32:01.412229Z"
    }
   },
   "outputs": [
    {
     "name": "stdout",
     "output_type": "stream",
     "text": [
      "14\n"
     ]
    }
   ],
   "source": [
    "#scale_pos_weight: XGBoost에서 불균형 모델일때 양성에 가중치를 주는 하이퍼파라미터. 보통 Negative개수/positive개수 를 기준으로 지정한다.\n",
    "scale_pos_weight = (len(y)-y.sum())/y.sum()\n",
    "param = {\n",
    "    'learning_rate':[0.01,0.1,0.5,1,10],\n",
    "    'n_estimators':[100,200,300,400,500],\n",
    "    'max_depth':range(1,6),\n",
    "    'subsample':[0.6,0.7,0.8,0.9,1],\n",
    "    'scale_pos_weight':[scale_pos_weight+i for i in range(-3,4)]\n",
    "}"
   ]
  },
  {
   "cell_type": "code",
   "execution_count": 28,
   "metadata": {
    "ExecuteTime": {
     "end_time": "2020-09-07T20:23:07.773299Z",
     "start_time": "2020-09-07T20:23:07.763296Z"
    }
   },
   "outputs": [],
   "source": [
    "from sklearn.model_selection import GridSearchCV, RandomizedSearchCV\n",
    "r_search = RandomizedSearchCV(XGBClassifier(), param_distributions=param, n_iter=60, scoring='roc_auc', n_jobs=-1 )"
   ]
  },
  {
   "cell_type": "code",
   "execution_count": 1,
   "metadata": {
    "ExecuteTime": {
     "end_time": "2020-09-17T06:20:20.312582Z",
     "start_time": "2020-09-17T06:20:20.308594Z"
    }
   },
   "outputs": [],
   "source": [
    "# r_search.fit(X_train_scaled, y_train)"
   ]
  },
  {
   "cell_type": "code",
   "execution_count": 31,
   "metadata": {
    "ExecuteTime": {
     "end_time": "2020-09-07T20:32:15.082701Z",
     "start_time": "2020-09-07T20:32:15.067740Z"
    }
   },
   "outputs": [
    {
     "data": {
      "text/plain": [
       "{'subsample': 0.8,\n",
       " 'scale_pos_weight': 17.15649357222391,\n",
       " 'n_estimators': 200,\n",
       " 'max_depth': 2,\n",
       " 'learning_rate': 0.1}"
      ]
     },
     "execution_count": 31,
     "metadata": {},
     "output_type": "execute_result"
    }
   ],
   "source": [
    "r_search.best_params_"
   ]
  },
  {
   "cell_type": "code",
   "execution_count": null,
   "metadata": {},
   "outputs": [],
   "source": [
    "rs_df = pd.DataFrame(r_search.cv_results_)\n",
    "rs_df.sort_values('rank_test_score').head()"
   ]
  },
  {
   "cell_type": "code",
   "execution_count": 33,
   "metadata": {
    "ExecuteTime": {
     "end_time": "2020-09-07T20:32:59.130599Z",
     "start_time": "2020-09-07T20:32:59.118664Z"
    }
   },
   "outputs": [],
   "source": [
    "best_model = r_search.best_estimator_"
   ]
  },
  {
   "cell_type": "code",
   "execution_count": 2,
   "metadata": {
    "ExecuteTime": {
     "end_time": "2020-09-17T06:20:30.793629Z",
     "start_time": "2020-09-17T06:20:30.789640Z"
    }
   },
   "outputs": [],
   "source": [
    "# best_model.fit(X_train_scaled, y_train)"
   ]
  },
  {
   "cell_type": "code",
   "execution_count": 35,
   "metadata": {
    "ExecuteTime": {
     "end_time": "2020-09-07T20:33:15.524907Z",
     "start_time": "2020-09-07T20:33:15.403253Z"
    }
   },
   "outputs": [
    {
     "data": {
      "text/plain": [
       "0.8690849989980437"
      ]
     },
     "execution_count": 35,
     "metadata": {},
     "output_type": "execute_result"
    }
   ],
   "source": [
    "pred_proba  = best_model.predict_proba(X_val_scaled)\n",
    "AUC = roc_auc_score(y_val, pred_proba[:, 1])\n",
    "AUC"
   ]
  },
  {
   "cell_type": "code",
   "execution_count": 37,
   "metadata": {
    "ExecuteTime": {
     "end_time": "2020-09-07T20:35:07.507657Z",
     "start_time": "2020-09-07T20:35:07.500680Z"
    }
   },
   "outputs": [],
   "source": [
    "from sklearn.ensemble import VotingClassifier"
   ]
  },
  {
   "cell_type": "code",
   "execution_count": 38,
   "metadata": {
    "ExecuteTime": {
     "end_time": "2020-09-07T20:35:08.082120Z",
     "start_time": "2020-09-07T20:35:08.070153Z"
    }
   },
   "outputs": [],
   "source": [
    "param = {\n",
    "    'n_estimators':[100,200,300],\n",
    "    'max_depth':range(1,5)\n",
    "}\n",
    "r_search_gb = RandomizedSearchCV(GradientBoostingClassifier(), param_distributions=param, n_iter=60, cv=5, scoring='roc_auc', n_jobs=-1)\n",
    "r_search_rf = RandomizedSearchCV(RandomForestClassifier(), param_distributions=param, n_iter=60, cv=5, scoring='roc_auc', n_jobs=-1)"
   ]
  },
  {
   "cell_type": "code",
   "execution_count": 39,
   "metadata": {
    "ExecuteTime": {
     "end_time": "2020-09-07T20:35:09.413111Z",
     "start_time": "2020-09-07T20:35:09.407129Z"
    }
   },
   "outputs": [],
   "source": [
    "estimators = [('xgb', best_model), ('gradient boost', r_search_gb), ('random forest', r_search_rf)]\n",
    "vote = VotingClassifier(estimators=estimators, voting='soft', n_jobs=-1)"
   ]
  },
  {
   "cell_type": "code",
   "execution_count": 3,
   "metadata": {
    "ExecuteTime": {
     "end_time": "2020-09-17T06:20:35.788849Z",
     "start_time": "2020-09-17T06:20:35.783863Z"
    }
   },
   "outputs": [],
   "source": [
    "# vote.fit(X_train_scaled, y_train)"
   ]
  },
  {
   "cell_type": "code",
   "execution_count": 41,
   "metadata": {
    "ExecuteTime": {
     "end_time": "2020-09-07T20:45:14.770342Z",
     "start_time": "2020-09-07T20:45:14.436237Z"
    }
   },
   "outputs": [
    {
     "data": {
      "text/plain": [
       "0.8695801292766502"
      ]
     },
     "execution_count": 41,
     "metadata": {},
     "output_type": "execute_result"
    }
   ],
   "source": [
    "pred_proba  = vote.predict_proba(X_val_scaled)\n",
    "AUC = roc_auc_score(y_val, pred_proba[:, 1])\n",
    "AUC"
   ]
  },
  {
   "cell_type": "markdown",
   "metadata": {},
   "source": [
    "## Test Set 으로 검증\n",
    "- XGBoostClassifier: 0.8690849989980437\n",
    "- VotingClassifier : 0.8695801292766502"
   ]
  },
  {
   "cell_type": "code",
   "execution_count": 42,
   "metadata": {
    "ExecuteTime": {
     "end_time": "2020-09-07T20:47:39.741286Z",
     "start_time": "2020-09-07T20:47:39.313407Z"
    },
    "scrolled": true
   },
   "outputs": [
    {
     "data": {
      "text/plain": [
       "0.864383916091285"
      ]
     },
     "execution_count": 42,
     "metadata": {},
     "output_type": "execute_result"
    }
   ],
   "source": [
    "pred_proba_test = vote.predict_proba(X_test_scaled)\n",
    "AUC_test = roc_auc_score(y_test, pred_proba_test[:, 1])\n",
    "AUC_test"
   ]
  },
  {
   "cell_type": "code",
   "execution_count": null,
   "metadata": {},
   "outputs": [],
   "source": []
  }
 ],
 "metadata": {
  "kernelspec": {
   "display_name": "Python 3",
   "language": "python",
   "name": "python3"
  },
  "language_info": {
   "codemirror_mode": {
    "name": "ipython",
    "version": 3
   },
   "file_extension": ".py",
   "mimetype": "text/x-python",
   "name": "python",
   "nbconvert_exporter": "python",
   "pygments_lexer": "ipython3",
   "version": "3.7.6"
  },
  "toc": {
   "base_numbering": 1,
   "nav_menu": {},
   "number_sections": false,
   "sideBar": true,
   "skip_h1_title": false,
   "title_cell": "Table of Contents",
   "title_sidebar": "Contents",
   "toc_cell": false,
   "toc_position": {},
   "toc_section_display": true,
   "toc_window_display": true
  },
  "varInspector": {
   "cols": {
    "lenName": 16,
    "lenType": 16,
    "lenVar": 40
   },
   "kernels_config": {
    "python": {
     "delete_cmd_postfix": "",
     "delete_cmd_prefix": "del ",
     "library": "var_list.py",
     "varRefreshCmd": "print(var_dic_list())"
    },
    "r": {
     "delete_cmd_postfix": ") ",
     "delete_cmd_prefix": "rm(",
     "library": "var_list.r",
     "varRefreshCmd": "cat(var_dic_list()) "
    }
   },
   "types_to_exclude": [
    "module",
    "function",
    "builtin_function_or_method",
    "instance",
    "_Feature"
   ],
   "window_display": false
  }
 },
 "nbformat": 4,
 "nbformat_minor": 2
}
